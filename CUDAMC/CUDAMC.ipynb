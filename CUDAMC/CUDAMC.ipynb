{
  "nbformat": 4,
  "nbformat_minor": 0,
  "metadata": {
    "colab": {
      "name": "CUDAMC.ipynb",
      "provenance": [],
      "collapsed_sections": [
        "r-vUjj6rlsOM",
        "54igJYlC4I-e"
      ]
    },
    "kernelspec": {
      "name": "python3",
      "display_name": "Python 3"
    },
    "accelerator": "GPU"
  },
  "cells": [
    {
      "cell_type": "code",
      "metadata": {
        "id": "wX897lL1kDLt",
        "colab_type": "code",
        "outputId": "9f3f02e2-823a-4b9f-d8de-547f8d24b199",
        "colab": {
          "base_uri": "https://localhost:8080/",
          "height": 72
        }
      },
      "source": [
        "import numpy as np\n",
        "import pandas as pd\n",
        "import scipy as sp\n",
        "import cupy as cp\n",
        "import time\n",
        "import seaborn as sns\n",
        "import matplotlib.pyplot as plt\n",
        "from datetime import date as dt\n",
        "from datetime import datetime as dtm\n",
        "from datetime import timedelta as td"
      ],
      "execution_count": 0,
      "outputs": [
        {
          "output_type": "stream",
          "text": [
            "/usr/local/lib/python3.6/dist-packages/statsmodels/tools/_testing.py:19: FutureWarning: pandas.util.testing is deprecated. Use the functions in the public API at pandas.testing instead.\n",
            "  import pandas.util.testing as tm\n"
          ],
          "name": "stderr"
        }
      ]
    },
    {
      "cell_type": "markdown",
      "metadata": {
        "id": "r-vUjj6rlsOM",
        "colab_type": "text"
      },
      "source": [
        "### CUPY GBM"
      ]
    },
    {
      "cell_type": "code",
      "metadata": {
        "id": "KCdchyYasavR",
        "colab_type": "code",
        "colab": {}
      },
      "source": [
        "def randn(size,g=None):\n",
        "    if not g:\n",
        "        g = cp.cuda.curand.createGenerator(cp.cuda.curand.CURAND_RNG_QUASI_SOBOL64)\n",
        "    element_size = size[0]*size[1] if len(size)>1 else size[0]\n",
        "    if element_size % 2 == 0:\n",
        "        out = cp.empty(element_size, dtype=np.float64)\n",
        "        cp.cuda.curand.generateNormalDouble(g, out.data.ptr, out.size,0,1)\n",
        "        cp.random.shuffle(out)\n",
        "        return out.reshape(size)\n",
        "    else:\n",
        "        out = cp.empty((element_size + 1,), dtype=np.float64)\n",
        "        cp.cuda.curand.generateNormalDouble(g, out.data.ptr, out.size,0,1)\n",
        "        return out[:element_size].reshape(size)"
      ],
      "execution_count": 0,
      "outputs": []
    },
    {
      "cell_type": "code",
      "metadata": {
        "id": "RV8RLgV60L9O",
        "colab_type": "code",
        "colab": {}
      },
      "source": [
        "g = cp.cuda.curand.createGenerator(cp.cuda.curand.CURAND_RNG_QUASI_DEFAULT)\n",
        "cp.cuda.curand.setGeneratorOrdering(g,cp.cuda.curand.CURAND_ORDERING_QUASI_DEFAULT)"
      ],
      "execution_count": 0,
      "outputs": []
    },
    {
      "cell_type": "code",
      "metadata": {
        "id": "Ibk-djFh3NjA",
        "colab_type": "code",
        "colab": {}
      },
      "source": [
        "def GBM(today,expiry,S0,ir,div,vol,g=None,num=1000000,bb=True,skip=0,seed=42):\n",
        "    steps = (expiry-today).days\n",
        "    tenor = steps/365\n",
        "    \n",
        "    idx = np.arange(steps+1)\n",
        "    den = np.insert(idx[1:],0,1)\n",
        "    \n",
        "    def linear_interp(x,y,new_x):\n",
        "        return sp.interpolate.interp1d(x,y,\"linear\",fill_value=\"extrapolate\")(new_x)\n",
        "    \n",
        "    def check_term(series,start=0):\n",
        "        new = series.copy()\n",
        "        if isinstance(series.index,pd.DatetimeIndex):\n",
        "            new.index = (series.index-today).days\n",
        "        if new.index[0]>start:\n",
        "            new = pd.Series({start:new.iloc[0]}).append(new)\n",
        "        elif new.inedx[0]<start:\n",
        "            new.index[0] = start\n",
        "        return new        \n",
        "    \n",
        "    if isinstance(ir,(float,np.float64)):\n",
        "        ir_curve = cp.asarray(np.ones(len(idx))*ir)\n",
        "    elif isinstance(ir,pd.Series):\n",
        "        ir_ = check_term(ir,0)\n",
        "        ir_curve = cp.asarray(linear_interp(ir_.index,ir_.index*ir_,idx)/den)\n",
        "    \n",
        "    if not div:div_curve = 0\n",
        "    if isinstance(div,(float,np.float64)):\n",
        "        div_curve = cp.asarray(np.ones(len(idx))*div)\n",
        "    elif isinstance(div,pd.Series):\n",
        "        div_ = check_term(div,0)\n",
        "        div_curve = cp.asarray(linear_interp(div_.index,div_.index*div_,idx)/den)\n",
        "        \n",
        "    if isinstance(vol,(float,np.float64)):\n",
        "        var_curve = cp.asarray(np.ones(len(idx))*np.square(vol))\n",
        "    elif isinstance(vol,pd.Series):\n",
        "        vol_ = check_term(vol,1)\n",
        "        var_curve = cp.asarray(linear_interp(vol_.index,vol_.index*np.square(vol_),idx)/den)\n",
        "    \n",
        "    dt = cp.asarray(idx/365)\n",
        "    sigma2t = cp.asarray(cp.diff(var_curve*dt,prepend=0))\n",
        "    drift = cp.asarray(cp.diff((ir_curve-div_curve)*dt,prepend=0) - 0.5*sigma2t)\n",
        "    stoch = cp.sqrt(sigma2t)\n",
        "\n",
        "    if not g:\n",
        "        g = cp.cuda.curand.createGenerator(cp.cuda.curand.CURAND_RNG_QUASI_DEFAULT)\n",
        "        cp.cuda.curand.setGeneratorOrdering(g,cp.cuda.curand.CURAND_ORDERING_QUASI_DEFAULT)\n",
        "\n",
        "    element_size = num*(steps+1)\n",
        "    tar_size = element_size if element_size%2==0 else element_size+1\n",
        "    bm = cp.empty(tar_size, dtype=np.float32)\n",
        "    cp.cuda.curand.generateNormal(g, bm.data.ptr, bm.size,0,1)\n",
        "    cp.random.shuffle(bm)\n",
        "    bm = bm[:element_size].reshape((num,steps+1))\n",
        "    bm[:,0] = 0\n",
        "\n",
        "    return S0*cp.exp((drift + bm*stoch).cumsum(axis=1))"
      ],
      "execution_count": 0,
      "outputs": []
    },
    {
      "cell_type": "markdown",
      "metadata": {
        "id": "54igJYlC4I-e",
        "colab_type": "text"
      },
      "source": [
        "### Test"
      ]
    },
    {
      "cell_type": "code",
      "metadata": {
        "id": "OGqrAGwE4Dkg",
        "colab_type": "code",
        "colab": {}
      },
      "source": [
        "todaydt = dtm(2019,11,20)\n",
        "expirydt = dtm(2020,11,20)\n",
        "ir = 0.0260156595595066\n",
        "vol = 0.114975694793223\n",
        "weekdays = cp.array([x for x in range(1,367) if (todaydt+td(days=x)).isoweekday()<6])\n",
        "coupon = cp.array([0.05*i/12 for i in range(1,13)])\n",
        "call_barrier = 1.0\n",
        "call_obs = cp.array([30,61,92,121,152,182,213,243,274,305,335,366])\n",
        "df = cp.exp(-ir*cp.array(call_obs)/365)"
      ],
      "execution_count": 0,
      "outputs": []
    },
    {
      "cell_type": "code",
      "metadata": {
        "id": "Oku8B-XG-uiT",
        "colab_type": "code",
        "colab": {}
      },
      "source": [
        "mempool = cp.get_default_memory_pool()\n",
        "pinned_mempool = cp.get_default_pinned_memory_pool()\n",
        "mempool.free_all_blocks()\n",
        "pinned_mempool.free_all_blocks()"
      ],
      "execution_count": 0,
      "outputs": []
    },
    {
      "cell_type": "code",
      "metadata": {
        "id": "-uyYbWYS4vwy",
        "colab_type": "code",
        "colab": {}
      },
      "source": [
        "%%time\n",
        "path = GBM(todaydt,expirydt,1,ir,None,vol,g=g,num=1000000,bb=True,skip=0,seed=None)"
      ],
      "execution_count": 0,
      "outputs": []
    },
    {
      "cell_type": "code",
      "metadata": {
        "id": "iXg78PQ3_4NT",
        "colab_type": "code",
        "colab": {}
      },
      "source": [
        "def Snowball(path,coupon,call_barrier,call_obs,ki_barrier,ki_obs,min_gain,max_gain,df,notional):\n",
        "    obs = path[:,call_obs]>call_barrier #观察日是否赎回\n",
        "    called = obs.any(axis=1)            #每条路径是否赎回\n",
        "    called_value = cp.eye(len(call_obs))[obs[called].argmax(axis=1)]*coupon*df #赎回日所获coupon贴现\n",
        "\n",
        "    ki = (path[~called][:,ki_obs]<ki_barrier).any(axis=1)                      #未赎回但敲入\n",
        "    ki_value = (path[~called][ki][:,-1].clip(a_min=min_gain,a_max=max_gain)-1)*df[-1] #敲入损失贴现\n",
        "\n",
        "    nki_value = (~ki).sum()*coupon[-1]*df[-1] #未赎回未敲入全额coupon贴现\n",
        "\n",
        "    return (called_value.sum()+ki_value.sum()+nki_value)/path.shape[0]*notional #相加平均"
      ],
      "execution_count": 0,
      "outputs": []
    },
    {
      "cell_type": "code",
      "metadata": {
        "id": "tK5XOECmQKok",
        "colab_type": "code",
        "colab": {}
      },
      "source": [
        "Snowball(path,coupon,call_barrier,call_obs,0.7,weekdays,0.01,1,df,1e6)"
      ],
      "execution_count": 0,
      "outputs": []
    },
    {
      "cell_type": "markdown",
      "metadata": {
        "id": "LaQGDQ-TuEW_",
        "colab_type": "text"
      },
      "source": [
        "### Repeat"
      ]
    },
    {
      "cell_type": "code",
      "metadata": {
        "id": "atGmZZtzuJ2k",
        "colab_type": "code",
        "colab": {}
      },
      "source": [
        "class EquityOption:\n",
        "    def __init__(self,):\n",
        "        pass\n",
        "\n",
        "    def with_schedule(self,today,expiry):\n",
        "        if not isinstance(today,(dt,dtm)):\n",
        "            raise TypeError(\"[MC.schedule] argument 'today' must be a data/datetime object\")\n",
        "        if not isinstance(expiry,(dt,dtm)):\n",
        "            raise TypeError(\"[MC.schedule] argument 'expiry' must be a data/datetime object\")\n",
        "        self.today = today\n",
        "        self.expiry = expiry\n",
        "        self.steps = (expiry-today).days\n",
        "        self.tenor = self.steps/365        \n",
        "        self.idx = np.arange(self.steps+1)\n",
        "        self.den = np.insert(self.idx[1:],0,1)\n",
        "        self.len = self.steps+1\n",
        "        self.tau = self.idx/365\n",
        "        return self\n",
        "\n",
        "    @staticmethod\n",
        "    def linear_interp(x,y,new_x):\n",
        "        return sp.interpolate.interp1d(x,y,\"linear\",fill_value=\"extrapolate\")(new_x)\n",
        "\n",
        "    @staticmethod\n",
        "    def check_term(self,series,start=0):\n",
        "        new = series.copy()\n",
        "        if isinstance(series.index,pd.DatetimeIndex):\n",
        "            new.index = (series.index-self.today).days\n",
        "        if new.index[0]>start:\n",
        "            new = pd.Series({start:new.iloc[0]}).append(new)\n",
        "        elif new.inedx[0]<start:\n",
        "            new.index[0] = start\n",
        "        return new \n",
        "\n",
        "    def with_ir(self,ir):\n",
        "        if isinstance(ir,(float,np.float64)):\n",
        "            self.ir_curve = np.ones(self.len)*ir\n",
        "        elif isinstance(ir,pd.Series):\n",
        "            ir_ = self.check_term(ir,0)\n",
        "            self.spot_curve = self.linear_interp(ir_.index,ir_.index*ir_,self.idx)/self.den\n",
        "            self.ir_curve = np.diff(self.spot_curve*self.tau,prepend=self.spot_curve[0])/(1/365)\n",
        "        return self\n",
        "    \n",
        "    def with_div(self,div):\n",
        "        if isinstance(div,(float,np.float64)):\n",
        "            self.div_curve = np.ones(self.len)*div\n",
        "        elif isinstance(div,pd.Series):\n",
        "            div_ = self.check_term(div,0)\n",
        "            self.div_curve = self.linear_interp(div_.index,div_.index*div_,self.idx)/self.den\n",
        "        return self\n",
        "\n",
        "    def with_vol(self,vol):\n",
        "        if isinstance(vol,(float,np.float64)):\n",
        "            self.var_curve = np.ones(self.len)*np.square(vol)\n",
        "        elif isinstance(vol,pd.Series):\n",
        "            vol_ = self.check_term(vol,1)\n",
        "            self.var_curve = self.linear_interp(vol_.index,vol_.index*np.square(vol_),self.idx)/self.den\n",
        "        return self\n",
        "    \n",
        "    def calc_term(self):\n",
        "        if not hasattr(self,\"div_curve\"):\n",
        "            self.div_curve = 0        \n",
        "        self.sigma2t = np.diff(self.var_curve*self.tau)\n",
        "        self.drift = np.diff((self.ir_curve-self.div_curve)*self.tau)-0.5*self.sigma2t\n",
        "        self.stoch = np.sqrt(self.sigma2t)\n",
        "        self.df_curve = np.exp(-self.ir_curve*self.tau)\n",
        "        return self.steps,self.drift,self.stoch,self.df_curve\n",
        "        "
      ],
      "execution_count": 0,
      "outputs": []
    },
    {
      "cell_type": "code",
      "metadata": {
        "id": "wv1JB5YWQmDN",
        "colab_type": "code",
        "colab": {}
      },
      "source": [
        "class Snowball:\n",
        "    def __init__(self,S0,coupon,call_barrier,call_obs,ki_barrier,ki_obs,min_gain,max_gain,notional,dtp):\n",
        "        self.dtp = dtp\n",
        "\n",
        "        self.S0 = dtp(S0)\n",
        "        self.coupon =  cp.asarray(coupon,dtype=dtp)\n",
        "        self.call_barrier = cp.asarray(call_barrier,dtype=dtp)\n",
        "        self.call_obs = cp.asarray(call_obs,dtype=cp.bool)\n",
        "        self.ki_barrier = cp.asarray(ki_barrier,dtype=dtp)\n",
        "        self.ki_obs = cp.asarray(ki_obs,dtype=cp.bool)\n",
        "        self.min_val = dtp(min_val)\n",
        "        self.max_val = dtp(max_val)\n",
        "        \n",
        "        self.notional = dtp(notional)\n",
        "        self._compile()\n",
        "\n",
        "    def with_proc(self,steps,drift,stoch,df):\n",
        "        self.steps = steps\n",
        "        self.drift = cp.asarray(drift,dtype=self.dtp)\n",
        "        self.stoch = cp.asarray(stoch,dtype=self.dtp)\n",
        "        self.df = cp.asarray(df,dtype=self.dtp)\n",
        "        return self\n",
        "\n",
        "    def with_rng(self,qmc=False,double_float=False,skip=10,seed=None):\n",
        "        self.dbl = double_float\n",
        "        self.qmc = qmc\n",
        "        self.seed = seed\n",
        "        if qmc:\n",
        "            if double_float: \n",
        "                gtype = cp.cuda.curand.CURAND_RNG_QUASI_SOBOL64                \n",
        "            else: \n",
        "                gtype = cp.cuda.curand.CURAND_RNG_QUASI_SOBOL32                \n",
        "        else:gtype = cp.cuda.curand.CURAND_RNG_PSEUDO_XORWOW\n",
        "            \n",
        "        if double_float:\n",
        "            self.dtp = cp.float64\n",
        "            self.gfunc = cp.cuda.curand.generateNormalDouble\n",
        "        else:\n",
        "            self.dtp = cp.float32\n",
        "            self.gfunc = cp.cuda.curand.generateNormal\n",
        "\n",
        "        self.g = cp.cuda.curand.createGenerator(gtype)\n",
        "        cp.cuda.curand.setGeneratorOffset(self.g,skip)\n",
        "        if not qmc and seed:\n",
        "            cp.cuda.curand.setPseudoRandomGeneratorSeed(self.g,seed)\n",
        "        return self\n",
        "\n",
        "    def run(self,N_PATHS,N_ROUND,N_BLOCKS,N_THREADS):\n",
        "        if not hasattr(self,\"drift\"):\n",
        "            raise(\"[Snowball.run] process is not specified.\")\n",
        "        if not hasattr(self,\"g\"):\n",
        "            raise(\"[Snowball.run] random generator is not specified.\")\n",
        "        total = cp.float64(0.0)\n",
        "        output = cp.empty(N_PATHS, dtype=dtp)\n",
        "        if self.seed: seeds = np.arange(self.seed,self.seed+N_ROUND,dtype=int)\n",
        "        else: seeds = np.random.randint(100,10000,N_ROUND)\n",
        "        for i in range(N_ROUND):\n",
        "            cp.cuda.curand.setPseudoRandomGeneratorSeed(self.g,seeds[i])\n",
        "            RS = cp.zeros(N_PATHS*self.steps, dtype=dtp)\n",
        "            self.gfunc(self.g, RS.data.ptr, RS.size,0,1)\n",
        "\n",
        "            self.func((N_BLOCKS,), (N_THREADS,),\n",
        "                      (output, self.S0, \n",
        "                       self.coupon,self.call_obs,self.call_barrier,\n",
        "                       self.ki_obs,self.ki_barrier,self.min_val,self.max_val,\n",
        "                       self.drift,self.stoch,self.df,RS,self.steps,N_PATHS\n",
        "                      ))\n",
        "            total += output.mean()\n",
        "            cp.cuda.stream.get_current_stream().synchronize()\n",
        "    \n",
        "        return np.float64(total/N_ROUND*self.notional)\n",
        "\n",
        "    def _compile(self):\n",
        "        self.func = cp.RawKernel(r'''\n",
        "        extern \"C\" __global__ void autocall (\n",
        "            float *VT,\n",
        "            const float S0,\n",
        "            const float * coupon,\n",
        "            const bool  * call_obs,\n",
        "            const float * call_barrier,\n",
        "            const bool  * ki_obs,\n",
        "            const float * ki_barrier,\n",
        "            const float min_val,\n",
        "            const float max_val,\n",
        "            const float * drift,\n",
        "            const float * stoch,\n",
        "            const float * df,\n",
        "            const float * bm,\n",
        "            const long N_STEPS,\n",
        "            const long N_PATHS)\n",
        "        {\n",
        "            unsigned idx =  threadIdx.x + blockIdx.x * blockDim.x;\n",
        "            unsigned stride = blockDim.x * gridDim.x;\n",
        "            unsigned tid = threadIdx.x;\n",
        "\n",
        "            for (unsigned i = idx; i<N_PATHS; i+=stride)\n",
        "            {\n",
        "                float ST = S0;\n",
        "                unsigned n=0;\n",
        "                bool called = false;\n",
        "                bool ki = false;\n",
        "                for(unsigned n = 0; n < N_STEPS; n++)\n",
        "                {\n",
        "                ST *= exp(drift[n] + stoch[n]*bm[i+n*N_PATHS]);\n",
        "                if(call_obs[n] and ST>=call_barrier[n])\n",
        "                {\n",
        "                    called = true;\n",
        "                    ST = coupon[n]*df[n];\n",
        "                    break;\n",
        "                }\n",
        "                else if(!ki && ki_obs[n] && ST<ki_barrier[n])\n",
        "                    ki = true;\n",
        "                }\n",
        "                if (called)\n",
        "                    VT[i] = ST;\n",
        "                else if (ki)\n",
        "                {\n",
        "                    if(ST<min_val)\n",
        "                        ST = min_val;\n",
        "                    if(ST>max_val)\n",
        "                        ST = max_val;\n",
        "                    VT[i] = (ST-S0)*df[N_STEPS-1];\n",
        "                }\n",
        "                else\n",
        "                    VT[i] = coupon[N_STEPS-1]*df[N_STEPS-1];\n",
        "            }\n",
        "        }\n",
        "        ''', 'autocall')"
      ],
      "execution_count": 0,
      "outputs": []
    },
    {
      "cell_type": "code",
      "metadata": {
        "id": "BNWYvUCuB8le",
        "colab_type": "code",
        "colab": {}
      },
      "source": [
        "todaydt = dtm(2019,11,20)\n",
        "expirydt = dtm(2020,11,20)\n",
        "ir = 0.0260156595595066\n",
        "vol = 0.114975694793223\n",
        "N_STEPS = 366\n",
        "call_barrier = cp.ones(N_STEPS)*1.0\n",
        "call_idx = [29,60,91,120,151,181,212,242,273,304,334,365]\n",
        "call_obs = np.isin(np.arange(N_STEPS),call_idx)\n",
        "coupon = np.zeros(N_STEPS)\n",
        "coupon[call_idx] = np.asarray(np.arange(1,13)*0.05/12)\n",
        "ki_barrier = cp.ones(N_STEPS)*0.7\n",
        "ki_obs = [True if (todaydt+td(days=x+1)).isoweekday()<6 else False for x in range(N_STEPS)]\n",
        "max_val,min_val = 1.0,0.01\n",
        "\n",
        "option = EquityOption().with_schedule(todaydt,expirydt)\\\n",
        "            .with_ir(ir).with_vol(vol)\n",
        "payoff = Snowball(1.0,coupon,call_barrier,call_obs,ki_barrier,ki_obs,min_val,max_val,1e6,cp.float32)\\\n",
        "            .with_proc(*option.calc_term()).with_rng()"
      ],
      "execution_count": 0,
      "outputs": []
    },
    {
      "cell_type": "code",
      "metadata": {
        "id": "8ZfSrt3fQEK3",
        "colab_type": "code",
        "outputId": "1150e8b6-fa3f-45a9-9739-dd51d8060d69",
        "colab": {
          "base_uri": "https://localhost:8080/",
          "height": 52
        }
      },
      "source": [
        "N_PATHS = 2048000\n",
        "dtp = cp.float32\n",
        "\n",
        "n_threads = 256\n",
        "n_blocks = (N_PATHS-1) // n_threads + 1\n",
        "t0=time.time()\n",
        "print(payoff.run(N_PATHS,4,n_blocks,n_threads))\n",
        "print(time.time()-t0)"
      ],
      "execution_count": 0,
      "outputs": [
        {
          "output_type": "stream",
          "text": [
            "14364.3603515625\n",
            "0.5493502616882324\n"
          ],
          "name": "stdout"
        }
      ]
    }
  ]
}